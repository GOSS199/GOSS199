{
 "cells": [
  {
   "cell_type": "code",
   "execution_count": 1,
   "id": "c41536f3-c117-4273-8a76-10631c87f0b8",
   "metadata": {},
   "outputs": [],
   "source": [
    "import pandas as pd"
   ]
  },
  {
   "cell_type": "code",
   "execution_count": 2,
   "id": "12c42861-2b54-4fb1-8e30-30c53a0a1ae7",
   "metadata": {},
   "outputs": [],
   "source": [
    "aide_alimentaire = pd.read_csv(r\"C:\\Users\\Asus\\OneDrive\\Bureau\\CSV Projet 4\\aide_alimentaire.csv\", sep=';')"
   ]
  },
  {
   "cell_type": "code",
   "execution_count": 3,
   "id": "4a6f8ac5-52f6-4b30-a2d2-f3c6ebb69ac0",
   "metadata": {},
   "outputs": [
    {
     "data": {
      "text/html": [
       "<div>\n",
       "<style scoped>\n",
       "    .dataframe tbody tr th:only-of-type {\n",
       "        vertical-align: middle;\n",
       "    }\n",
       "\n",
       "    .dataframe tbody tr th {\n",
       "        vertical-align: top;\n",
       "    }\n",
       "\n",
       "    .dataframe thead th {\n",
       "        text-align: right;\n",
       "    }\n",
       "</style>\n",
       "<table border=\"1\" class=\"dataframe\">\n",
       "  <thead>\n",
       "    <tr style=\"text-align: right;\">\n",
       "      <th></th>\n",
       "      <th>Pays bénéficiaire</th>\n",
       "      <th>Année</th>\n",
       "      <th>Produit</th>\n",
       "      <th>Valeur</th>\n",
       "    </tr>\n",
       "  </thead>\n",
       "  <tbody>\n",
       "    <tr>\n",
       "      <th>0</th>\n",
       "      <td>Afghanistan</td>\n",
       "      <td>2013.0</td>\n",
       "      <td>Autres non-céréales</td>\n",
       "      <td>682.0</td>\n",
       "    </tr>\n",
       "    <tr>\n",
       "      <th>1</th>\n",
       "      <td>Afghanistan</td>\n",
       "      <td>2014.0</td>\n",
       "      <td>Autres non-céréales</td>\n",
       "      <td>335.0</td>\n",
       "    </tr>\n",
       "    <tr>\n",
       "      <th>2</th>\n",
       "      <td>Afghanistan</td>\n",
       "      <td>2013.0</td>\n",
       "      <td>Blé et Farin</td>\n",
       "      <td>39224.0</td>\n",
       "    </tr>\n",
       "    <tr>\n",
       "      <th>3</th>\n",
       "      <td>Afghanistan</td>\n",
       "      <td>2014.0</td>\n",
       "      <td>Blé et Farin</td>\n",
       "      <td>15160.0</td>\n",
       "    </tr>\n",
       "    <tr>\n",
       "      <th>4</th>\n",
       "      <td>Afghanistan</td>\n",
       "      <td>2013.0</td>\n",
       "      <td>Céréales</td>\n",
       "      <td>40504.0</td>\n",
       "    </tr>\n",
       "  </tbody>\n",
       "</table>\n",
       "</div>"
      ],
      "text/plain": [
       "  Pays bénéficiaire   Année              Produit   Valeur\n",
       "0       Afghanistan  2013.0  Autres non-céréales    682.0\n",
       "1       Afghanistan  2014.0  Autres non-céréales    335.0\n",
       "2       Afghanistan  2013.0         Blé et Farin  39224.0\n",
       "3       Afghanistan  2014.0         Blé et Farin  15160.0\n",
       "4       Afghanistan  2013.0             Céréales  40504.0"
      ]
     },
     "execution_count": 3,
     "metadata": {},
     "output_type": "execute_result"
    }
   ],
   "source": [
    "aide_alimentaire.head()"
   ]
  },
  {
   "cell_type": "code",
   "execution_count": 4,
   "id": "91b0e2d5-77e6-425f-8b4c-32fcbdf1ac88",
   "metadata": {},
   "outputs": [
    {
     "name": "stdout",
     "output_type": "stream",
     "text": [
      "Dimensions du dataset : 1475 lignes, 4 colonnes\n"
     ]
    }
   ],
   "source": [
    "dimensions = aide_alimentaire.shape\n",
    "nombre_lignes = dimensions[0]\n",
    "nombre_colonnes = dimensions[1]\n",
    "print(\"Dimensions du dataset : {} lignes, {} colonnes\".format(nombre_lignes, nombre_colonnes))"
   ]
  },
  {
   "cell_type": "code",
   "execution_count": 5,
   "id": "140b739f-dae0-49a2-8477-13be8abb93f5",
   "metadata": {},
   "outputs": [],
   "source": [
    "nombre_colonnes = aide_alimentaire.shape[1]"
   ]
  },
  {
   "cell_type": "code",
   "execution_count": 6,
   "id": "6ba68ee3-7149-4bee-b46e-bd7004cec9d1",
   "metadata": {},
   "outputs": [
    {
     "name": "stdout",
     "output_type": "stream",
     "text": [
      "Nombre de colonnes dans le DataFrame :  4\n"
     ]
    }
   ],
   "source": [
    "print(\"Nombre de colonnes dans le DataFrame : \", nombre_colonnes)"
   ]
  },
  {
   "cell_type": "code",
   "execution_count": 7,
   "id": "60b707c6-4e6a-40b2-a896-ab28d7450f59",
   "metadata": {},
   "outputs": [
    {
     "data": {
      "text/html": [
       "<div>\n",
       "<style scoped>\n",
       "    .dataframe tbody tr th:only-of-type {\n",
       "        vertical-align: middle;\n",
       "    }\n",
       "\n",
       "    .dataframe tbody tr th {\n",
       "        vertical-align: top;\n",
       "    }\n",
       "\n",
       "    .dataframe thead th {\n",
       "        text-align: right;\n",
       "    }\n",
       "</style>\n",
       "<table border=\"1\" class=\"dataframe\">\n",
       "  <thead>\n",
       "    <tr style=\"text-align: right;\">\n",
       "      <th></th>\n",
       "      <th>Zone</th>\n",
       "      <th>Année</th>\n",
       "      <th>Produit</th>\n",
       "      <th>Valeur</th>\n",
       "    </tr>\n",
       "  </thead>\n",
       "  <tbody>\n",
       "    <tr>\n",
       "      <th>0</th>\n",
       "      <td>Afghanistan</td>\n",
       "      <td>2013.0</td>\n",
       "      <td>Autres non-céréales</td>\n",
       "      <td>682.0</td>\n",
       "    </tr>\n",
       "    <tr>\n",
       "      <th>1</th>\n",
       "      <td>Afghanistan</td>\n",
       "      <td>2014.0</td>\n",
       "      <td>Autres non-céréales</td>\n",
       "      <td>335.0</td>\n",
       "    </tr>\n",
       "    <tr>\n",
       "      <th>2</th>\n",
       "      <td>Afghanistan</td>\n",
       "      <td>2013.0</td>\n",
       "      <td>Blé et Farin</td>\n",
       "      <td>39224.0</td>\n",
       "    </tr>\n",
       "    <tr>\n",
       "      <th>3</th>\n",
       "      <td>Afghanistan</td>\n",
       "      <td>2014.0</td>\n",
       "      <td>Blé et Farin</td>\n",
       "      <td>15160.0</td>\n",
       "    </tr>\n",
       "    <tr>\n",
       "      <th>4</th>\n",
       "      <td>Afghanistan</td>\n",
       "      <td>2013.0</td>\n",
       "      <td>Céréales</td>\n",
       "      <td>40504.0</td>\n",
       "    </tr>\n",
       "  </tbody>\n",
       "</table>\n",
       "</div>"
      ],
      "text/plain": [
       "          Zone   Année              Produit   Valeur\n",
       "0  Afghanistan  2013.0  Autres non-céréales    682.0\n",
       "1  Afghanistan  2014.0  Autres non-céréales    335.0\n",
       "2  Afghanistan  2013.0         Blé et Farin  39224.0\n",
       "3  Afghanistan  2014.0         Blé et Farin  15160.0\n",
       "4  Afghanistan  2013.0             Céréales  40504.0"
      ]
     },
     "execution_count": 7,
     "metadata": {},
     "output_type": "execute_result"
    }
   ],
   "source": [
    "aide_alimentaire = aide_alimentaire.rename(columns={'Pays bénéficiaire': 'Zone'})\n",
    "aide_alimentaire.head()"
   ]
  },
  {
   "cell_type": "code",
   "execution_count": 8,
   "id": "cad10b11-8fb5-47dc-ba2b-62d4b6d814fe",
   "metadata": {},
   "outputs": [
    {
     "data": {
      "text/html": [
       "<div>\n",
       "<style scoped>\n",
       "    .dataframe tbody tr th:only-of-type {\n",
       "        vertical-align: middle;\n",
       "    }\n",
       "\n",
       "    .dataframe tbody tr th {\n",
       "        vertical-align: top;\n",
       "    }\n",
       "\n",
       "    .dataframe thead th {\n",
       "        text-align: right;\n",
       "    }\n",
       "</style>\n",
       "<table border=\"1\" class=\"dataframe\">\n",
       "  <thead>\n",
       "    <tr style=\"text-align: right;\">\n",
       "      <th></th>\n",
       "      <th>Zone</th>\n",
       "      <th>Année</th>\n",
       "      <th>Produit</th>\n",
       "      <th>Valeur</th>\n",
       "    </tr>\n",
       "  </thead>\n",
       "  <tbody>\n",
       "    <tr>\n",
       "      <th>0</th>\n",
       "      <td>Afghanistan</td>\n",
       "      <td>2013.0</td>\n",
       "      <td>Autres non-céréales</td>\n",
       "      <td>682000.0</td>\n",
       "    </tr>\n",
       "    <tr>\n",
       "      <th>1</th>\n",
       "      <td>Afghanistan</td>\n",
       "      <td>2014.0</td>\n",
       "      <td>Autres non-céréales</td>\n",
       "      <td>335000.0</td>\n",
       "    </tr>\n",
       "    <tr>\n",
       "      <th>2</th>\n",
       "      <td>Afghanistan</td>\n",
       "      <td>2013.0</td>\n",
       "      <td>Blé et Farin</td>\n",
       "      <td>39224000.0</td>\n",
       "    </tr>\n",
       "    <tr>\n",
       "      <th>3</th>\n",
       "      <td>Afghanistan</td>\n",
       "      <td>2014.0</td>\n",
       "      <td>Blé et Farin</td>\n",
       "      <td>15160000.0</td>\n",
       "    </tr>\n",
       "    <tr>\n",
       "      <th>4</th>\n",
       "      <td>Afghanistan</td>\n",
       "      <td>2013.0</td>\n",
       "      <td>Céréales</td>\n",
       "      <td>40504000.0</td>\n",
       "    </tr>\n",
       "  </tbody>\n",
       "</table>\n",
       "</div>"
      ],
      "text/plain": [
       "          Zone   Année              Produit      Valeur\n",
       "0  Afghanistan  2013.0  Autres non-céréales    682000.0\n",
       "1  Afghanistan  2014.0  Autres non-céréales    335000.0\n",
       "2  Afghanistan  2013.0         Blé et Farin  39224000.0\n",
       "3  Afghanistan  2014.0         Blé et Farin  15160000.0\n",
       "4  Afghanistan  2013.0             Céréales  40504000.0"
      ]
     },
     "execution_count": 8,
     "metadata": {},
     "output_type": "execute_result"
    }
   ],
   "source": [
    "aide_alimentaire['Valeur'] = aide_alimentaire['Valeur'] * 1000\n",
    "aide_alimentaire.head()"
   ]
  },
  {
   "cell_type": "code",
   "execution_count": null,
   "id": "0ac59f14-bdab-4f9b-ab02-c01d61dc3342",
   "metadata": {},
   "outputs": [],
   "source": []
  }
 ],
 "metadata": {
  "kernelspec": {
   "display_name": "Python 3 (ipykernel)",
   "language": "python",
   "name": "python3"
  },
  "language_info": {
   "codemirror_mode": {
    "name": "ipython",
    "version": 3
   },
   "file_extension": ".py",
   "mimetype": "text/x-python",
   "name": "python",
   "nbconvert_exporter": "python",
   "pygments_lexer": "ipython3",
   "version": "3.12.3"
  }
 },
 "nbformat": 4,
 "nbformat_minor": 5
}
